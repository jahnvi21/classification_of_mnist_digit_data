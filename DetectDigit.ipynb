{
 "cells": [
  {
   "cell_type": "code",
   "execution_count": 1,
   "metadata": {},
   "outputs": [],
   "source": [
    "import tensorflow as tf\n",
    "import tensorflow.keras as k\n",
    "import matplotlib.pyplot as plt\n",
    "import numpy as np\n",
    "import sklearn.model_selection as skl"
   ]
  },
  {
   "cell_type": "code",
   "execution_count": 4,
   "metadata": {},
   "outputs": [],
   "source": [
    "#loading data\n",
    "mnist = tf.keras.datasets.mnist\n",
    "(x_train, y_train), (x_test_mnist, y_test_mnist) = mnist.load_data()"
   ]
  },
  {
   "cell_type": "code",
   "execution_count": 5,
   "metadata": {},
   "outputs": [
    {
     "name": "stdout",
     "output_type": "stream",
     "text": [
      "shape of x_train: (38400, 28, 28, 1)\n",
      "shape of x_val: (9600, 28, 28, 1)\n",
      "shape of x_test: (12000, 28, 28, 1)\n"
     ]
    }
   ],
   "source": [
    "#splitting data into train, validation and test\n",
    "x_train, x_test, y_train, y_test = skl.train_test_split(x_train, y_train, test_size=0.2, random_state=1)\n",
    "x_train, x_val, y_train, y_val = skl.train_test_split(x_train, y_train, test_size=0.2, random_state=1)\n",
    "\n",
    "#reshaping the matrices of test, validation test\n",
    "x_train = x_train.reshape(x_train.shape[0], 28, 28, 1)\n",
    "x_test = x_test.reshape(x_test.shape[0], 28, 28, 1)\n",
    "x_val = x_val.reshape(x_val.shape[0], 28, 28, 1)\n",
    "\n",
    "print(\"shape of x_train: \" + str(x_train.shape))\n",
    "print(\"shape of x_val: \" + str(x_val.shape))\n",
    "print(\"shape of x_test: \" + str(x_test.shape))"
   ]
  },
  {
   "cell_type": "code",
   "execution_count": 16,
   "metadata": {},
   "outputs": [],
   "source": [
    "#defining our sequential model Architecture \n",
    "#with Convolution layers fllowed by one pooling layer (max) and in end one Dense layer with softmaxactvation\n",
    "\n",
    "model = k.models.Sequential()\n",
    "\n",
    "#model.add(k.layers.Flatten())\n",
    "model.add(k.layers.Conv2D(64, kernel_size=(3, 3), activation=tf.nn.relu, input_shape=(28,28,1)))\n",
    "model.add(k.layers.Conv2D(32, kernel_size=(3, 3), activation=tf.nn.relu))\n",
    "model.add(k.layers.MaxPooling2D(pool_size=(2, 2)))\n",
    "model.add(k.layers.Flatten())\n",
    "model.add(k.layers.Dense(10, activation=tf.nn.softmax))"
   ]
  },
  {
   "cell_type": "code",
   "execution_count": 17,
   "metadata": {},
   "outputs": [],
   "source": [
    "#compiling our model\n",
    "\n",
    "model.compile(optimizer='adam',\n",
    "             loss='sparse_categorical_crossentropy',\n",
    "             metrics=['accuracy'])"
   ]
  },
  {
   "cell_type": "code",
   "execution_count": 18,
   "metadata": {
    "scrolled": false
   },
   "outputs": [
    {
     "name": "stdout",
     "output_type": "stream",
     "text": [
      "Train on 38400 samples, validate on 9600 samples\n",
      "Epoch 1/3\n",
      "38400/38400 [==============================] - 23s 609us/sample - loss: 0.8107 - acc: 0.9128 - val_loss: 0.0913 - val_acc: 0.9723\n",
      "Epoch 2/3\n",
      "38400/38400 [==============================] - 23s 595us/sample - loss: 0.0747 - acc: 0.9771 - val_loss: 0.1298 - val_acc: 0.9654\n",
      "Epoch 3/3\n",
      "38400/38400 [==============================] - 23s 602us/sample - loss: 0.0547 - acc: 0.9828 - val_loss: 0.1062 - val_acc: 0.9749\n"
     ]
    },
    {
     "data": {
      "text/plain": [
       "<tensorflow.python.keras.callbacks.History at 0x7f1f59241278>"
      ]
     },
     "execution_count": 18,
     "metadata": {},
     "output_type": "execute_result"
    }
   ],
   "source": [
    "#fitting moel with generated validation dataset\n",
    "\n",
    "model.fit(x_train, y_train, epochs=3, validation_data=(x_val, y_val))"
   ]
  },
  {
   "cell_type": "code",
   "execution_count": 19,
   "metadata": {},
   "outputs": [
    {
     "name": "stdout",
     "output_type": "stream",
     "text": [
      "12000/12000 [==============================] - 2s 167us/sample - loss: 0.1153 - acc: 0.9743\n"
     ]
    }
   ],
   "source": [
    "#evaluate model with test data\n",
    "\n",
    "val_loss, val_acc = model.evaluate(x_test, y_test)"
   ]
  },
  {
   "cell_type": "code",
   "execution_count": 20,
   "metadata": {},
   "outputs": [],
   "source": [
    "model.save('detect_digit.model')"
   ]
  },
  {
   "cell_type": "code",
   "execution_count": 2,
   "metadata": {},
   "outputs": [
    {
     "name": "stdout",
     "output_type": "stream",
     "text": [
      "WARNING:tensorflow:From /root/anaconda3/lib/python3.7/site-packages/tensorflow/python/ops/resource_variable_ops.py:435: colocate_with (from tensorflow.python.framework.ops) is deprecated and will be removed in a future version.\n",
      "Instructions for updating:\n",
      "Colocations handled automatically by placer.\n"
     ]
    }
   ],
   "source": [
    "my_model = k.models.load_model('detect_digit.model')"
   ]
  },
  {
   "cell_type": "code",
   "execution_count": 6,
   "metadata": {},
   "outputs": [],
   "source": [
    "predictions = my_model.predict([x_test])"
   ]
  },
  {
   "cell_type": "code",
   "execution_count": 7,
   "metadata": {},
   "outputs": [
    {
     "data": {
      "text/plain": [
       "3"
      ]
     },
     "execution_count": 7,
     "metadata": {},
     "output_type": "execute_result"
    }
   ],
   "source": [
    "np.argmax(predictions[0])"
   ]
  },
  {
   "cell_type": "code",
   "execution_count": 17,
   "metadata": {},
   "outputs": [
    {
     "data": {
      "text/plain": [
       "<matplotlib.image.AxesImage at 0x7f5ee8193d30>"
      ]
     },
     "execution_count": 17,
     "metadata": {},
     "output_type": "execute_result"
    },
    {
     "data": {
      "image/png": "[encoded data removed]",
      "text/plain": [
       "<Figure size 432x288 with 1 Axes>"
      ]
     },
     "metadata": {
      "needs_background": "light"
     },
     "output_type": "display_data"
    }
   ],
   "source": [
    "img = x_test[0].reshape(28,28)\n",
    "plt.imshow(img)"
   ]
  },
  {
   "cell_type": "code",
   "execution_count": null,
   "metadata": {},
   "outputs": [],
   "source": []
  }
 ],
 "metadata": {
  "kernelspec": {
   "display_name": "Python 3",
   "language": "python",
   "name": "python3"
  },
  "language_info": {
   "codemirror_mode": {
    "name": "ipython",
    "version": 3
   },
   "file_extension": ".py",
   "mimetype": "text/x-python",
   "name": "python",
   "nbconvert_exporter": "python",
   "pygments_lexer": "ipython3",
   "version": "3.7.3"
  }
 },
 "nbformat": 4,
 "nbformat_minor": 2
}
